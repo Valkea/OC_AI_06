{
 "cells": [
  {
   "cell_type": "code",
   "execution_count": 1,
   "id": "cce4e953-f5e3-4693-afed-45c0d97fd386",
   "metadata": {},
   "outputs": [],
   "source": [
    "import os\n",
    "import pandas as pd\n",
    "import numpy as np\n",
    "\n",
    "import matplotlib.pyplot as plt\n",
    "import seaborn as sns\n",
    "\n",
    "random_seed = 0\n",
    "np.random.seed(random_seed)"
   ]
  },
  {
   "cell_type": "code",
   "execution_count": 2,
   "id": "5d7fe3ad-0874-4542-b64e-3e853fd2ea69",
   "metadata": {},
   "outputs": [],
   "source": [
    "def get_num_lines(path):\n",
    "    with open(path) as f:\n",
    "        for i, _ in enumerate(f):\n",
    "            pass\n",
    "    return i+1"
   ]
  },
  {
   "cell_type": "markdown",
   "id": "3a5e4a3b-e1d9-486e-913f-a315358efe6c",
   "metadata": {},
   "source": [
    "## Business"
   ]
  },
  {
   "cell_type": "code",
   "execution_count": 3,
   "id": "c516ee4b-4048-43c3-a8ca-ca62c969de05",
   "metadata": {},
   "outputs": [
    {
     "data": {
      "text/html": [
       "<div>\n",
       "<style scoped>\n",
       "    .dataframe tbody tr th:only-of-type {\n",
       "        vertical-align: middle;\n",
       "    }\n",
       "\n",
       "    .dataframe tbody tr th {\n",
       "        vertical-align: top;\n",
       "    }\n",
       "\n",
       "    .dataframe thead th {\n",
       "        text-align: right;\n",
       "    }\n",
       "</style>\n",
       "<table border=\"1\" class=\"dataframe\">\n",
       "  <thead>\n",
       "    <tr style=\"text-align: right;\">\n",
       "      <th></th>\n",
       "      <th>business_id</th>\n",
       "      <th>name</th>\n",
       "      <th>address</th>\n",
       "      <th>city</th>\n",
       "      <th>state</th>\n",
       "      <th>postal_code</th>\n",
       "      <th>latitude</th>\n",
       "      <th>longitude</th>\n",
       "      <th>stars</th>\n",
       "      <th>review_count</th>\n",
       "      <th>is_open</th>\n",
       "      <th>attributes</th>\n",
       "      <th>categories</th>\n",
       "      <th>hours</th>\n",
       "    </tr>\n",
       "  </thead>\n",
       "  <tbody>\n",
       "    <tr>\n",
       "      <th>0</th>\n",
       "      <td>Pns2l4eNsfO8kk83dixA6A</td>\n",
       "      <td>Abby Rappoport, LAC, CMQ</td>\n",
       "      <td>1616 Chapala St, Ste 2</td>\n",
       "      <td>Santa Barbara</td>\n",
       "      <td>CA</td>\n",
       "      <td>93101</td>\n",
       "      <td>34.426679</td>\n",
       "      <td>-119.711197</td>\n",
       "      <td>5.0</td>\n",
       "      <td>7</td>\n",
       "      <td>0</td>\n",
       "      <td>{'ByAppointmentOnly': 'True'}</td>\n",
       "      <td>Doctors, Traditional Chinese Medicine, Naturop...</td>\n",
       "      <td>None</td>\n",
       "    </tr>\n",
       "    <tr>\n",
       "      <th>1</th>\n",
       "      <td>mpf3x-BjTdTEA3yCZrAYPw</td>\n",
       "      <td>The UPS Store</td>\n",
       "      <td>87 Grasso Plaza Shopping Center</td>\n",
       "      <td>Affton</td>\n",
       "      <td>MO</td>\n",
       "      <td>63123</td>\n",
       "      <td>38.551126</td>\n",
       "      <td>-90.335695</td>\n",
       "      <td>3.0</td>\n",
       "      <td>15</td>\n",
       "      <td>1</td>\n",
       "      <td>{'BusinessAcceptsCreditCards': 'True'}</td>\n",
       "      <td>Shipping Centers, Local Services, Notaries, Ma...</td>\n",
       "      <td>{'Monday': '0:0-0:0', 'Tuesday': '8:0-18:30', ...</td>\n",
       "    </tr>\n",
       "  </tbody>\n",
       "</table>\n",
       "</div>"
      ],
      "text/plain": [
       "              business_id                      name  \\\n",
       "0  Pns2l4eNsfO8kk83dixA6A  Abby Rappoport, LAC, CMQ   \n",
       "1  mpf3x-BjTdTEA3yCZrAYPw             The UPS Store   \n",
       "\n",
       "                           address           city state postal_code  \\\n",
       "0           1616 Chapala St, Ste 2  Santa Barbara    CA       93101   \n",
       "1  87 Grasso Plaza Shopping Center         Affton    MO       63123   \n",
       "\n",
       "    latitude   longitude  stars  review_count  is_open  \\\n",
       "0  34.426679 -119.711197    5.0             7        0   \n",
       "1  38.551126  -90.335695    3.0            15        1   \n",
       "\n",
       "                               attributes  \\\n",
       "0           {'ByAppointmentOnly': 'True'}   \n",
       "1  {'BusinessAcceptsCreditCards': 'True'}   \n",
       "\n",
       "                                          categories  \\\n",
       "0  Doctors, Traditional Chinese Medicine, Naturop...   \n",
       "1  Shipping Centers, Local Services, Notaries, Ma...   \n",
       "\n",
       "                                               hours  \n",
       "0                                               None  \n",
       "1  {'Monday': '0:0-0:0', 'Tuesday': '8:0-18:30', ...  "
      ]
     },
     "metadata": {},
     "output_type": "display_data"
    },
    {
     "data": {
      "text/plain": [
       "(10000, 14)"
      ]
     },
     "metadata": {},
     "output_type": "display_data"
    }
   ],
   "source": [
    "file_path = os.path.join(\"data\", \"yelp_dataset\", \"yelp_academic_dataset_business.json\")\n",
    "data_business = pd.read_json(file_path, lines=True, nrows=10000)  # 150346 x 14\n",
    "display(data_business.head(2), data_business.shape)"
   ]
  },
  {
   "cell_type": "code",
   "execution_count": 4,
   "id": "69841a04-a2d0-41c3-aaed-7c56ecadcde4",
   "metadata": {},
   "outputs": [
    {
     "data": {
      "text/plain": [
       "(150346, 14)"
      ]
     },
     "execution_count": 4,
     "metadata": {},
     "output_type": "execute_result"
    }
   ],
   "source": [
    "(get_num_lines(file_path), data_business.shape[1])"
   ]
  },
  {
   "cell_type": "markdown",
   "id": "971b20a3-dd31-493d-9502-2da30a2896fc",
   "metadata": {},
   "source": [
    "## Users"
   ]
  },
  {
   "cell_type": "code",
   "execution_count": 5,
   "id": "71785c83-598d-4847-a9b9-156690d7b999",
   "metadata": {},
   "outputs": [
    {
     "data": {
      "text/html": [
       "<div>\n",
       "<style scoped>\n",
       "    .dataframe tbody tr th:only-of-type {\n",
       "        vertical-align: middle;\n",
       "    }\n",
       "\n",
       "    .dataframe tbody tr th {\n",
       "        vertical-align: top;\n",
       "    }\n",
       "\n",
       "    .dataframe thead th {\n",
       "        text-align: right;\n",
       "    }\n",
       "</style>\n",
       "<table border=\"1\" class=\"dataframe\">\n",
       "  <thead>\n",
       "    <tr style=\"text-align: right;\">\n",
       "      <th></th>\n",
       "      <th>user_id</th>\n",
       "      <th>name</th>\n",
       "      <th>review_count</th>\n",
       "      <th>yelping_since</th>\n",
       "      <th>useful</th>\n",
       "      <th>funny</th>\n",
       "      <th>cool</th>\n",
       "      <th>elite</th>\n",
       "      <th>friends</th>\n",
       "      <th>fans</th>\n",
       "      <th>...</th>\n",
       "      <th>compliment_more</th>\n",
       "      <th>compliment_profile</th>\n",
       "      <th>compliment_cute</th>\n",
       "      <th>compliment_list</th>\n",
       "      <th>compliment_note</th>\n",
       "      <th>compliment_plain</th>\n",
       "      <th>compliment_cool</th>\n",
       "      <th>compliment_funny</th>\n",
       "      <th>compliment_writer</th>\n",
       "      <th>compliment_photos</th>\n",
       "    </tr>\n",
       "  </thead>\n",
       "  <tbody>\n",
       "    <tr>\n",
       "      <th>0</th>\n",
       "      <td>qVc8ODYU5SZjKXVBgXdI7w</td>\n",
       "      <td>Walker</td>\n",
       "      <td>585</td>\n",
       "      <td>2007-01-25 16:47:26</td>\n",
       "      <td>7217</td>\n",
       "      <td>1259</td>\n",
       "      <td>5994</td>\n",
       "      <td>2007</td>\n",
       "      <td>NSCy54eWehBJyZdG2iE84w, pe42u7DcCH2QmI81NX-8qA...</td>\n",
       "      <td>267</td>\n",
       "      <td>...</td>\n",
       "      <td>65</td>\n",
       "      <td>55</td>\n",
       "      <td>56</td>\n",
       "      <td>18</td>\n",
       "      <td>232</td>\n",
       "      <td>844</td>\n",
       "      <td>467</td>\n",
       "      <td>467</td>\n",
       "      <td>239</td>\n",
       "      <td>180</td>\n",
       "    </tr>\n",
       "    <tr>\n",
       "      <th>1</th>\n",
       "      <td>j14WgRoU_-2ZE1aw1dXrJg</td>\n",
       "      <td>Daniel</td>\n",
       "      <td>4333</td>\n",
       "      <td>2009-01-25 04:35:42</td>\n",
       "      <td>43091</td>\n",
       "      <td>13066</td>\n",
       "      <td>27281</td>\n",
       "      <td>2009,2010,2011,2012,2013,2014,2015,2016,2017,2...</td>\n",
       "      <td>ueRPE0CX75ePGMqOFVj6IQ, 52oH4DrRvzzl8wh5UXyU0A...</td>\n",
       "      <td>3138</td>\n",
       "      <td>...</td>\n",
       "      <td>264</td>\n",
       "      <td>184</td>\n",
       "      <td>157</td>\n",
       "      <td>251</td>\n",
       "      <td>1847</td>\n",
       "      <td>7054</td>\n",
       "      <td>3131</td>\n",
       "      <td>3131</td>\n",
       "      <td>1521</td>\n",
       "      <td>1946</td>\n",
       "    </tr>\n",
       "  </tbody>\n",
       "</table>\n",
       "<p>2 rows × 22 columns</p>\n",
       "</div>"
      ],
      "text/plain": [
       "                  user_id    name  review_count        yelping_since  useful  \\\n",
       "0  qVc8ODYU5SZjKXVBgXdI7w  Walker           585  2007-01-25 16:47:26    7217   \n",
       "1  j14WgRoU_-2ZE1aw1dXrJg  Daniel          4333  2009-01-25 04:35:42   43091   \n",
       "\n",
       "   funny   cool                                              elite  \\\n",
       "0   1259   5994                                               2007   \n",
       "1  13066  27281  2009,2010,2011,2012,2013,2014,2015,2016,2017,2...   \n",
       "\n",
       "                                             friends  fans  ...  \\\n",
       "0  NSCy54eWehBJyZdG2iE84w, pe42u7DcCH2QmI81NX-8qA...   267  ...   \n",
       "1  ueRPE0CX75ePGMqOFVj6IQ, 52oH4DrRvzzl8wh5UXyU0A...  3138  ...   \n",
       "\n",
       "   compliment_more  compliment_profile  compliment_cute  compliment_list  \\\n",
       "0               65                  55               56               18   \n",
       "1              264                 184              157              251   \n",
       "\n",
       "   compliment_note  compliment_plain  compliment_cool  compliment_funny  \\\n",
       "0              232               844              467               467   \n",
       "1             1847              7054             3131              3131   \n",
       "\n",
       "   compliment_writer  compliment_photos  \n",
       "0                239                180  \n",
       "1               1521               1946  \n",
       "\n",
       "[2 rows x 22 columns]"
      ]
     },
     "metadata": {},
     "output_type": "display_data"
    },
    {
     "data": {
      "text/plain": [
       "(10000, 22)"
      ]
     },
     "metadata": {},
     "output_type": "display_data"
    }
   ],
   "source": [
    "file_path = os.path.join(\"data\", \"yelp_dataset\", \"yelp_academic_dataset_user.json\")\n",
    "data_users = pd.read_json(file_path, lines=True, nrows=10000)  # 1987897 x 22\n",
    "display(data_users.head(2), data_users.shape)"
   ]
  },
  {
   "cell_type": "code",
   "execution_count": 6,
   "id": "0ae9c289-5a0b-4051-90ac-8e406c1491ac",
   "metadata": {},
   "outputs": [
    {
     "data": {
      "text/plain": [
       "(1987897, 22)"
      ]
     },
     "execution_count": 6,
     "metadata": {},
     "output_type": "execute_result"
    }
   ],
   "source": [
    "(get_num_lines(file_path), data_users.shape[1])"
   ]
  },
  {
   "cell_type": "markdown",
   "id": "275a8c00-9007-425c-abf5-be2e99461b6c",
   "metadata": {},
   "source": [
    "## Checkin"
   ]
  },
  {
   "cell_type": "code",
   "execution_count": 7,
   "id": "621e0626-281b-40ae-9687-3f93b2801abd",
   "metadata": {},
   "outputs": [
    {
     "data": {
      "text/html": [
       "<div>\n",
       "<style scoped>\n",
       "    .dataframe tbody tr th:only-of-type {\n",
       "        vertical-align: middle;\n",
       "    }\n",
       "\n",
       "    .dataframe tbody tr th {\n",
       "        vertical-align: top;\n",
       "    }\n",
       "\n",
       "    .dataframe thead th {\n",
       "        text-align: right;\n",
       "    }\n",
       "</style>\n",
       "<table border=\"1\" class=\"dataframe\">\n",
       "  <thead>\n",
       "    <tr style=\"text-align: right;\">\n",
       "      <th></th>\n",
       "      <th>business_id</th>\n",
       "      <th>date</th>\n",
       "    </tr>\n",
       "  </thead>\n",
       "  <tbody>\n",
       "    <tr>\n",
       "      <th>0</th>\n",
       "      <td>---kPU91CF4Lq2-WlRu9Lw</td>\n",
       "      <td>2020-03-13 21:10:56, 2020-06-02 22:18:06, 2020...</td>\n",
       "    </tr>\n",
       "    <tr>\n",
       "      <th>1</th>\n",
       "      <td>--0iUa4sNDFiZFrAdIWhZQ</td>\n",
       "      <td>2010-09-13 21:43:09, 2011-05-04 23:08:15, 2011...</td>\n",
       "    </tr>\n",
       "  </tbody>\n",
       "</table>\n",
       "</div>"
      ],
      "text/plain": [
       "              business_id                                               date\n",
       "0  ---kPU91CF4Lq2-WlRu9Lw  2020-03-13 21:10:56, 2020-06-02 22:18:06, 2020...\n",
       "1  --0iUa4sNDFiZFrAdIWhZQ  2010-09-13 21:43:09, 2011-05-04 23:08:15, 2011..."
      ]
     },
     "metadata": {},
     "output_type": "display_data"
    },
    {
     "data": {
      "text/plain": [
       "(10000, 2)"
      ]
     },
     "metadata": {},
     "output_type": "display_data"
    }
   ],
   "source": [
    "file_path = os.path.join(\"data\", \"yelp_dataset\", \"yelp_academic_dataset_checkin.json\")\n",
    "data_checkin = pd.read_json(file_path, lines=True, nrows=10000)  # 131930 x 2\n",
    "display(data_checkin.head(2), data_checkin.shape)"
   ]
  },
  {
   "cell_type": "code",
   "execution_count": 8,
   "id": "e625ccc2-54fa-412a-a01b-574362952f7e",
   "metadata": {},
   "outputs": [
    {
     "data": {
      "text/plain": [
       "(131930, 2)"
      ]
     },
     "execution_count": 8,
     "metadata": {},
     "output_type": "execute_result"
    }
   ],
   "source": [
    "(get_num_lines(file_path), data_checkin.shape[1])"
   ]
  },
  {
   "cell_type": "markdown",
   "id": "82988681-653d-443e-98f2-f85a1d894e33",
   "metadata": {},
   "source": [
    "## Review"
   ]
  },
  {
   "cell_type": "code",
   "execution_count": 9,
   "id": "73017e73-0359-4c2c-b092-8e332f1e7159",
   "metadata": {},
   "outputs": [
    {
     "data": {
      "text/html": [
       "<div>\n",
       "<style scoped>\n",
       "    .dataframe tbody tr th:only-of-type {\n",
       "        vertical-align: middle;\n",
       "    }\n",
       "\n",
       "    .dataframe tbody tr th {\n",
       "        vertical-align: top;\n",
       "    }\n",
       "\n",
       "    .dataframe thead th {\n",
       "        text-align: right;\n",
       "    }\n",
       "</style>\n",
       "<table border=\"1\" class=\"dataframe\">\n",
       "  <thead>\n",
       "    <tr style=\"text-align: right;\">\n",
       "      <th></th>\n",
       "      <th>review_id</th>\n",
       "      <th>user_id</th>\n",
       "      <th>business_id</th>\n",
       "      <th>stars</th>\n",
       "      <th>useful</th>\n",
       "      <th>funny</th>\n",
       "      <th>cool</th>\n",
       "      <th>text</th>\n",
       "      <th>date</th>\n",
       "    </tr>\n",
       "  </thead>\n",
       "  <tbody>\n",
       "    <tr>\n",
       "      <th>0</th>\n",
       "      <td>KU_O5udG6zpxOg-VcAEodg</td>\n",
       "      <td>mh_-eMZ6K5RLWhZyISBhwA</td>\n",
       "      <td>XQfwVwDr-v0ZS3_CbbE5Xw</td>\n",
       "      <td>3</td>\n",
       "      <td>0</td>\n",
       "      <td>0</td>\n",
       "      <td>0</td>\n",
       "      <td>If you decide to eat here, just be aware it is...</td>\n",
       "      <td>2018-07-07 22:09:11</td>\n",
       "    </tr>\n",
       "    <tr>\n",
       "      <th>1</th>\n",
       "      <td>BiTunyQ73aT9WBnpR9DZGw</td>\n",
       "      <td>OyoGAe7OKpv6SyGZT5g77Q</td>\n",
       "      <td>7ATYjTIgM3jUlt4UM3IypQ</td>\n",
       "      <td>5</td>\n",
       "      <td>1</td>\n",
       "      <td>0</td>\n",
       "      <td>1</td>\n",
       "      <td>I've taken a lot of spin classes over the year...</td>\n",
       "      <td>2012-01-03 15:28:18</td>\n",
       "    </tr>\n",
       "  </tbody>\n",
       "</table>\n",
       "</div>"
      ],
      "text/plain": [
       "                review_id                 user_id             business_id  \\\n",
       "0  KU_O5udG6zpxOg-VcAEodg  mh_-eMZ6K5RLWhZyISBhwA  XQfwVwDr-v0ZS3_CbbE5Xw   \n",
       "1  BiTunyQ73aT9WBnpR9DZGw  OyoGAe7OKpv6SyGZT5g77Q  7ATYjTIgM3jUlt4UM3IypQ   \n",
       "\n",
       "   stars  useful  funny  cool  \\\n",
       "0      3       0      0     0   \n",
       "1      5       1      0     1   \n",
       "\n",
       "                                                text                date  \n",
       "0  If you decide to eat here, just be aware it is... 2018-07-07 22:09:11  \n",
       "1  I've taken a lot of spin classes over the year... 2012-01-03 15:28:18  "
      ]
     },
     "metadata": {},
     "output_type": "display_data"
    },
    {
     "data": {
      "text/plain": [
       "(10000, 9)"
      ]
     },
     "metadata": {},
     "output_type": "display_data"
    }
   ],
   "source": [
    "file_path = os.path.join(\"data\", \"yelp_dataset\", \"yelp_academic_dataset_review.json\")\n",
    "data_review = pd.read_json(file_path, lines=True, nrows=10000)  # 6990280 x 9\n",
    "display(data_review.head(2), data_review.shape)"
   ]
  },
  {
   "cell_type": "code",
   "execution_count": 10,
   "id": "4b63b0bc-392c-46c4-861e-80677fe97e23",
   "metadata": {},
   "outputs": [
    {
     "data": {
      "text/plain": [
       "(6990280, 9)"
      ]
     },
     "execution_count": 10,
     "metadata": {},
     "output_type": "execute_result"
    }
   ],
   "source": [
    "(get_num_lines(file_path), data_review.shape[1])"
   ]
  },
  {
   "cell_type": "markdown",
   "id": "ff29799d-efc7-4c02-b165-7a95c548cb4c",
   "metadata": {},
   "source": [
    "## Tip"
   ]
  },
  {
   "cell_type": "code",
   "execution_count": 11,
   "id": "3ea353e4-9b75-4526-a386-f1b3ae6259b4",
   "metadata": {},
   "outputs": [
    {
     "data": {
      "text/html": [
       "<div>\n",
       "<style scoped>\n",
       "    .dataframe tbody tr th:only-of-type {\n",
       "        vertical-align: middle;\n",
       "    }\n",
       "\n",
       "    .dataframe tbody tr th {\n",
       "        vertical-align: top;\n",
       "    }\n",
       "\n",
       "    .dataframe thead th {\n",
       "        text-align: right;\n",
       "    }\n",
       "</style>\n",
       "<table border=\"1\" class=\"dataframe\">\n",
       "  <thead>\n",
       "    <tr style=\"text-align: right;\">\n",
       "      <th></th>\n",
       "      <th>user_id</th>\n",
       "      <th>business_id</th>\n",
       "      <th>text</th>\n",
       "      <th>date</th>\n",
       "      <th>compliment_count</th>\n",
       "    </tr>\n",
       "  </thead>\n",
       "  <tbody>\n",
       "    <tr>\n",
       "      <th>0</th>\n",
       "      <td>AGNUgVwnZUey3gcPCJ76iw</td>\n",
       "      <td>3uLgwr0qeCNMjKenHJwPGQ</td>\n",
       "      <td>Avengers time with the ladies.</td>\n",
       "      <td>2012-05-18 02:17:21</td>\n",
       "      <td>0</td>\n",
       "    </tr>\n",
       "    <tr>\n",
       "      <th>1</th>\n",
       "      <td>NBN4MgHP9D3cw--SnauTkA</td>\n",
       "      <td>QoezRbYQncpRqyrLH6Iqjg</td>\n",
       "      <td>They have lots of good deserts and tasty cuban...</td>\n",
       "      <td>2013-02-05 18:35:10</td>\n",
       "      <td>0</td>\n",
       "    </tr>\n",
       "  </tbody>\n",
       "</table>\n",
       "</div>"
      ],
      "text/plain": [
       "                  user_id             business_id  \\\n",
       "0  AGNUgVwnZUey3gcPCJ76iw  3uLgwr0qeCNMjKenHJwPGQ   \n",
       "1  NBN4MgHP9D3cw--SnauTkA  QoezRbYQncpRqyrLH6Iqjg   \n",
       "\n",
       "                                                text                date  \\\n",
       "0                     Avengers time with the ladies. 2012-05-18 02:17:21   \n",
       "1  They have lots of good deserts and tasty cuban... 2013-02-05 18:35:10   \n",
       "\n",
       "   compliment_count  \n",
       "0                 0  \n",
       "1                 0  "
      ]
     },
     "metadata": {},
     "output_type": "display_data"
    },
    {
     "data": {
      "text/plain": [
       "(10000, 5)"
      ]
     },
     "metadata": {},
     "output_type": "display_data"
    }
   ],
   "source": [
    "file_path = os.path.join(\"data\", \"yelp_dataset\", \"yelp_academic_dataset_tip.json\")\n",
    "data_tip = pd.read_json(file_path, lines=True, nrows=10000)  # 908915 x 5\n",
    "display(data_tip.head(2), data_tip.shape)"
   ]
  },
  {
   "cell_type": "code",
   "execution_count": 12,
   "id": "7cae1327-825e-4ddb-a7a4-d337f972baf7",
   "metadata": {},
   "outputs": [
    {
     "data": {
      "text/plain": [
       "(908915, 5)"
      ]
     },
     "execution_count": 12,
     "metadata": {},
     "output_type": "execute_result"
    }
   ],
   "source": [
    "(get_num_lines(file_path), data_tip.shape[1])"
   ]
  },
  {
   "cell_type": "markdown",
   "id": "1b0e19a4-73cd-446a-8d35-c71a3088fb30",
   "metadata": {},
   "source": [
    "---\n",
    "---"
   ]
  },
  {
   "cell_type": "markdown",
   "id": "8a960afd-bfba-47ed-82d5-1d2d9f2c6bda",
   "metadata": {},
   "source": [
    "## Review"
   ]
  },
  {
   "cell_type": "code",
   "execution_count": 13,
   "id": "65203657-c2f8-42fb-8f85-f5543de17d30",
   "metadata": {},
   "outputs": [
    {
     "data": {
      "text/html": [
       "<div>\n",
       "<style scoped>\n",
       "    .dataframe tbody tr th:only-of-type {\n",
       "        vertical-align: middle;\n",
       "    }\n",
       "\n",
       "    .dataframe tbody tr th {\n",
       "        vertical-align: top;\n",
       "    }\n",
       "\n",
       "    .dataframe thead th {\n",
       "        text-align: right;\n",
       "    }\n",
       "</style>\n",
       "<table border=\"1\" class=\"dataframe\">\n",
       "  <thead>\n",
       "    <tr style=\"text-align: right;\">\n",
       "      <th></th>\n",
       "      <th>review_id</th>\n",
       "      <th>user_id</th>\n",
       "      <th>business_id</th>\n",
       "      <th>stars</th>\n",
       "      <th>useful</th>\n",
       "      <th>funny</th>\n",
       "      <th>cool</th>\n",
       "      <th>text</th>\n",
       "      <th>date</th>\n",
       "    </tr>\n",
       "  </thead>\n",
       "  <tbody>\n",
       "    <tr>\n",
       "      <th>0</th>\n",
       "      <td>KU_O5udG6zpxOg-VcAEodg</td>\n",
       "      <td>mh_-eMZ6K5RLWhZyISBhwA</td>\n",
       "      <td>XQfwVwDr-v0ZS3_CbbE5Xw</td>\n",
       "      <td>3</td>\n",
       "      <td>0</td>\n",
       "      <td>0</td>\n",
       "      <td>0</td>\n",
       "      <td>If you decide to eat here, just be aware it is...</td>\n",
       "      <td>2018-07-07 22:09:11</td>\n",
       "    </tr>\n",
       "    <tr>\n",
       "      <th>1</th>\n",
       "      <td>BiTunyQ73aT9WBnpR9DZGw</td>\n",
       "      <td>OyoGAe7OKpv6SyGZT5g77Q</td>\n",
       "      <td>7ATYjTIgM3jUlt4UM3IypQ</td>\n",
       "      <td>5</td>\n",
       "      <td>1</td>\n",
       "      <td>0</td>\n",
       "      <td>1</td>\n",
       "      <td>I've taken a lot of spin classes over the year...</td>\n",
       "      <td>2012-01-03 15:28:18</td>\n",
       "    </tr>\n",
       "  </tbody>\n",
       "</table>\n",
       "</div>"
      ],
      "text/plain": [
       "                review_id                 user_id             business_id  \\\n",
       "0  KU_O5udG6zpxOg-VcAEodg  mh_-eMZ6K5RLWhZyISBhwA  XQfwVwDr-v0ZS3_CbbE5Xw   \n",
       "1  BiTunyQ73aT9WBnpR9DZGw  OyoGAe7OKpv6SyGZT5g77Q  7ATYjTIgM3jUlt4UM3IypQ   \n",
       "\n",
       "   stars  useful  funny  cool  \\\n",
       "0      3       0      0     0   \n",
       "1      5       1      0     1   \n",
       "\n",
       "                                                text                date  \n",
       "0  If you decide to eat here, just be aware it is... 2018-07-07 22:09:11  \n",
       "1  I've taken a lot of spin classes over the year... 2012-01-03 15:28:18  "
      ]
     },
     "metadata": {},
     "output_type": "display_data"
    },
    {
     "data": {
      "text/plain": [
       "(1000000, 9)"
      ]
     },
     "metadata": {},
     "output_type": "display_data"
    }
   ],
   "source": [
    "file_path = os.path.join(\"data\", \"yelp_dataset\", \"yelp_academic_dataset_review.json\")\n",
    "data_review = pd.read_json(file_path, lines=True, nrows=1000000)  # 6990280 x 9\n",
    "display(data_review.head(2), data_review.shape)"
   ]
  },
  {
   "cell_type": "code",
   "execution_count": 14,
   "id": "ba7691c3-ca41-4216-b5ff-29d2ac68985f",
   "metadata": {},
   "outputs": [
    {
     "data": {
      "text/plain": [
       "(6990280, 9)"
      ]
     },
     "execution_count": 14,
     "metadata": {},
     "output_type": "execute_result"
    }
   ],
   "source": [
    "(get_num_lines(file_path), data_review.shape[1])"
   ]
  },
  {
   "cell_type": "markdown",
   "id": "84cc3f6a-7204-4951-be3b-0560f055f864",
   "metadata": {},
   "source": [
    "### Regardons plus en détails les variables du jeu de données"
   ]
  },
  {
   "cell_type": "code",
   "execution_count": 15,
   "id": "89992701-8586-4be4-9846-bc31516ae081",
   "metadata": {},
   "outputs": [
    {
     "data": {
      "text/html": [
       "<div>\n",
       "<style scoped>\n",
       "    .dataframe tbody tr th:only-of-type {\n",
       "        vertical-align: middle;\n",
       "    }\n",
       "\n",
       "    .dataframe tbody tr th {\n",
       "        vertical-align: top;\n",
       "    }\n",
       "\n",
       "    .dataframe thead th {\n",
       "        text-align: right;\n",
       "    }\n",
       "</style>\n",
       "<table border=\"1\" class=\"dataframe\">\n",
       "  <thead>\n",
       "    <tr style=\"text-align: right;\">\n",
       "      <th></th>\n",
       "      <th>count</th>\n",
       "      <th>unique</th>\n",
       "      <th>top</th>\n",
       "      <th>freq</th>\n",
       "    </tr>\n",
       "  </thead>\n",
       "  <tbody>\n",
       "    <tr>\n",
       "      <th>review_id</th>\n",
       "      <td>1000000</td>\n",
       "      <td>1000000</td>\n",
       "      <td>KU_O5udG6zpxOg-VcAEodg</td>\n",
       "      <td>1</td>\n",
       "    </tr>\n",
       "    <tr>\n",
       "      <th>user_id</th>\n",
       "      <td>1000000</td>\n",
       "      <td>542003</td>\n",
       "      <td>_BcWyKQL16ndpBdggh2kNA</td>\n",
       "      <td>483</td>\n",
       "    </tr>\n",
       "    <tr>\n",
       "      <th>business_id</th>\n",
       "      <td>1000000</td>\n",
       "      <td>27095</td>\n",
       "      <td>GBTPC53ZrG1ZBY3DT8Mbcw</td>\n",
       "      <td>4661</td>\n",
       "    </tr>\n",
       "    <tr>\n",
       "      <th>text</th>\n",
       "      <td>1000000</td>\n",
       "      <td>998357</td>\n",
       "      <td>I have eaten at just about every decent Indian...</td>\n",
       "      <td>5</td>\n",
       "    </tr>\n",
       "  </tbody>\n",
       "</table>\n",
       "</div>"
      ],
      "text/plain": [
       "               count   unique  \\\n",
       "review_id    1000000  1000000   \n",
       "user_id      1000000   542003   \n",
       "business_id  1000000    27095   \n",
       "text         1000000   998357   \n",
       "\n",
       "                                                           top  freq  \n",
       "review_id                               KU_O5udG6zpxOg-VcAEodg     1  \n",
       "user_id                                 _BcWyKQL16ndpBdggh2kNA   483  \n",
       "business_id                             GBTPC53ZrG1ZBY3DT8Mbcw  4661  \n",
       "text         I have eaten at just about every decent Indian...     5  "
      ]
     },
     "execution_count": 15,
     "metadata": {},
     "output_type": "execute_result"
    }
   ],
   "source": [
    "data_review.describe(exclude=['number','datetime']).T"
   ]
  },
  {
   "cell_type": "code",
   "execution_count": 16,
   "id": "85366084-9203-4c77-bf70-81486cf70f69",
   "metadata": {},
   "outputs": [
    {
     "data": {
      "text/html": [
       "<div>\n",
       "<style scoped>\n",
       "    .dataframe tbody tr th:only-of-type {\n",
       "        vertical-align: middle;\n",
       "    }\n",
       "\n",
       "    .dataframe tbody tr th {\n",
       "        vertical-align: top;\n",
       "    }\n",
       "\n",
       "    .dataframe thead th {\n",
       "        text-align: right;\n",
       "    }\n",
       "</style>\n",
       "<table border=\"1\" class=\"dataframe\">\n",
       "  <thead>\n",
       "    <tr style=\"text-align: right;\">\n",
       "      <th></th>\n",
       "      <th>count</th>\n",
       "      <th>mean</th>\n",
       "      <th>min</th>\n",
       "      <th>25%</th>\n",
       "      <th>50%</th>\n",
       "      <th>75%</th>\n",
       "      <th>max</th>\n",
       "      <th>std</th>\n",
       "    </tr>\n",
       "  </thead>\n",
       "  <tbody>\n",
       "    <tr>\n",
       "      <th>stars</th>\n",
       "      <td>1000000.0</td>\n",
       "      <td>3.783959</td>\n",
       "      <td>1.0</td>\n",
       "      <td>3.0</td>\n",
       "      <td>4.0</td>\n",
       "      <td>5.0</td>\n",
       "      <td>5.0</td>\n",
       "      <td>1.440197</td>\n",
       "    </tr>\n",
       "    <tr>\n",
       "      <th>useful</th>\n",
       "      <td>1000000.0</td>\n",
       "      <td>1.106594</td>\n",
       "      <td>0.0</td>\n",
       "      <td>0.0</td>\n",
       "      <td>0.0</td>\n",
       "      <td>1.0</td>\n",
       "      <td>539.0</td>\n",
       "      <td>2.848906</td>\n",
       "    </tr>\n",
       "    <tr>\n",
       "      <th>funny</th>\n",
       "      <td>1000000.0</td>\n",
       "      <td>0.307812</td>\n",
       "      <td>0.0</td>\n",
       "      <td>0.0</td>\n",
       "      <td>0.0</td>\n",
       "      <td>0.0</td>\n",
       "      <td>284.0</td>\n",
       "      <td>1.428185</td>\n",
       "    </tr>\n",
       "    <tr>\n",
       "      <th>cool</th>\n",
       "      <td>1000000.0</td>\n",
       "      <td>0.457129</td>\n",
       "      <td>0.0</td>\n",
       "      <td>0.0</td>\n",
       "      <td>0.0</td>\n",
       "      <td>0.0</td>\n",
       "      <td>172.0</td>\n",
       "      <td>1.799114</td>\n",
       "    </tr>\n",
       "    <tr>\n",
       "      <th>date</th>\n",
       "      <td>1000000</td>\n",
       "      <td>2016-07-13 10:09:02.464016128</td>\n",
       "      <td>2005-03-01 17:47:15</td>\n",
       "      <td>2014-08-07 16:29:16.500000</td>\n",
       "      <td>2016-10-11 16:02:42</td>\n",
       "      <td>2018-09-01 01:26:22.249999872</td>\n",
       "      <td>2022-01-19 19:47:59</td>\n",
       "      <td>NaN</td>\n",
       "    </tr>\n",
       "  </tbody>\n",
       "</table>\n",
       "</div>"
      ],
      "text/plain": [
       "            count                           mean                  min  \\\n",
       "stars   1000000.0                       3.783959                  1.0   \n",
       "useful  1000000.0                       1.106594                  0.0   \n",
       "funny   1000000.0                       0.307812                  0.0   \n",
       "cool    1000000.0                       0.457129                  0.0   \n",
       "date      1000000  2016-07-13 10:09:02.464016128  2005-03-01 17:47:15   \n",
       "\n",
       "                               25%                  50%  \\\n",
       "stars                          3.0                  4.0   \n",
       "useful                         0.0                  0.0   \n",
       "funny                          0.0                  0.0   \n",
       "cool                           0.0                  0.0   \n",
       "date    2014-08-07 16:29:16.500000  2016-10-11 16:02:42   \n",
       "\n",
       "                                  75%                  max       std  \n",
       "stars                             5.0                  5.0  1.440197  \n",
       "useful                            1.0                539.0  2.848906  \n",
       "funny                             0.0                284.0  1.428185  \n",
       "cool                              0.0                172.0  1.799114  \n",
       "date    2018-09-01 01:26:22.249999872  2022-01-19 19:47:59       NaN  "
      ]
     },
     "execution_count": 16,
     "metadata": {},
     "output_type": "execute_result"
    }
   ],
   "source": [
    "data_review.describe(datetime_is_numeric=True).T"
   ]
  },
  {
   "cell_type": "markdown",
   "id": "a3d27f35-f95a-4be0-b581-6e840ec22fac",
   "metadata": {},
   "source": [
    "### Affichons la répartition des notes de review"
   ]
  },
  {
   "cell_type": "code",
   "execution_count": 17,
   "id": "2f64d98a-3ef2-471f-b351-b070786c85f6",
   "metadata": {
    "tags": []
   },
   "outputs": [],
   "source": [
    "def plot_bars(data_, title, labels_modulo=1, labels_rotation=90, show_values=True, show_percent=False, x_label=None, y_label=None):\n",
    "    \n",
    "    if show_percent:\n",
    "        total = data_.values.sum()\n",
    "        data_ = round(data_/total*100.0,2)\n",
    "\n",
    "    fig = plt.figure(figsize=(15, 4))\n",
    "    ax = sns.barplot(data=data_)\n",
    "    \n",
    "    if show_values:\n",
    "        ax.bar_label(ax.containers[0])\n",
    "        \n",
    "    new_ticks = [i.get_text() for i in ax.get_xticklabels()]\n",
    "    plt.xticks(range(0, len(new_ticks), labels_modulo), new_ticks[::labels_modulo], rotation=labels_rotation)\n",
    "    plt.ylabel(y_label)\n",
    "    plt.xlabel(x_label)\n",
    "    plt.title(title)\n",
    "    plt.show()"
   ]
  },
  {
   "cell_type": "code",
   "execution_count": 18,
   "id": "91e40121-5ff4-4ed6-a194-d5f91c72bca5",
   "metadata": {},
   "outputs": [
    {
     "data": {
      "image/png": "[encoded data removed]",
      "text/plain": [
       "<Figure size 1080x288 with 1 Axes>"
      ]
     },
     "metadata": {
      "needs_background": "light"
     },
     "output_type": "display_data"
    }
   ],
   "source": [
    "select = pd.DataFrame(data_review.stars.value_counts()).reset_index()\n",
    "select.sort_values(by='index', inplace=True)\n",
    "select.set_index('index', inplace=True)\n",
    "\n",
    "plot_bars(select.T, \"Distribution (en %) des notes de reviews\", y_label=\"Fraction des reviews (en %)\", x_label=\"Nombre d'étoiles\", labels_rotation=0, show_percent=True)"
   ]
  },
  {
   "cell_type": "markdown",
   "id": "b4f41bfc-b981-4ba9-a349-f3f7ebf824cc",
   "metadata": {},
   "source": [
    "### Binarisation des reviews"
   ]
  },
  {
   "cell_type": "code",
   "execution_count": 19,
   "id": "0ef8f7fa-a50b-42a6-a74c-3e90ea53cd2f",
   "metadata": {},
   "outputs": [
    {
     "data": {
      "text/html": [
       "<div>\n",
       "<style scoped>\n",
       "    .dataframe tbody tr th:only-of-type {\n",
       "        vertical-align: middle;\n",
       "    }\n",
       "\n",
       "    .dataframe tbody tr th {\n",
       "        vertical-align: top;\n",
       "    }\n",
       "\n",
       "    .dataframe thead th {\n",
       "        text-align: right;\n",
       "    }\n",
       "</style>\n",
       "<table border=\"1\" class=\"dataframe\">\n",
       "  <thead>\n",
       "    <tr style=\"text-align: right;\">\n",
       "      <th></th>\n",
       "      <th>review_id</th>\n",
       "      <th>user_id</th>\n",
       "      <th>business_id</th>\n",
       "      <th>stars</th>\n",
       "      <th>useful</th>\n",
       "      <th>funny</th>\n",
       "      <th>cool</th>\n",
       "      <th>text</th>\n",
       "      <th>date</th>\n",
       "      <th>is_low</th>\n",
       "    </tr>\n",
       "  </thead>\n",
       "  <tbody>\n",
       "    <tr>\n",
       "      <th>0</th>\n",
       "      <td>KU_O5udG6zpxOg-VcAEodg</td>\n",
       "      <td>mh_-eMZ6K5RLWhZyISBhwA</td>\n",
       "      <td>XQfwVwDr-v0ZS3_CbbE5Xw</td>\n",
       "      <td>3</td>\n",
       "      <td>0</td>\n",
       "      <td>0</td>\n",
       "      <td>0</td>\n",
       "      <td>If you decide to eat here, just be aware it is...</td>\n",
       "      <td>2018-07-07 22:09:11</td>\n",
       "      <td>False</td>\n",
       "    </tr>\n",
       "    <tr>\n",
       "      <th>1</th>\n",
       "      <td>BiTunyQ73aT9WBnpR9DZGw</td>\n",
       "      <td>OyoGAe7OKpv6SyGZT5g77Q</td>\n",
       "      <td>7ATYjTIgM3jUlt4UM3IypQ</td>\n",
       "      <td>5</td>\n",
       "      <td>1</td>\n",
       "      <td>0</td>\n",
       "      <td>1</td>\n",
       "      <td>I've taken a lot of spin classes over the year...</td>\n",
       "      <td>2012-01-03 15:28:18</td>\n",
       "      <td>False</td>\n",
       "    </tr>\n",
       "  </tbody>\n",
       "</table>\n",
       "</div>"
      ],
      "text/plain": [
       "                review_id                 user_id             business_id  \\\n",
       "0  KU_O5udG6zpxOg-VcAEodg  mh_-eMZ6K5RLWhZyISBhwA  XQfwVwDr-v0ZS3_CbbE5Xw   \n",
       "1  BiTunyQ73aT9WBnpR9DZGw  OyoGAe7OKpv6SyGZT5g77Q  7ATYjTIgM3jUlt4UM3IypQ   \n",
       "\n",
       "   stars  useful  funny  cool  \\\n",
       "0      3       0      0     0   \n",
       "1      5       1      0     1   \n",
       "\n",
       "                                                text                date  \\\n",
       "0  If you decide to eat here, just be aware it is... 2018-07-07 22:09:11   \n",
       "1  I've taken a lot of spin classes over the year... 2012-01-03 15:28:18   \n",
       "\n",
       "   is_low  \n",
       "0   False  \n",
       "1   False  "
      ]
     },
     "metadata": {},
     "output_type": "display_data"
    },
    {
     "data": {
      "text/plain": [
       "(1000000, 10)"
      ]
     },
     "metadata": {},
     "output_type": "display_data"
    }
   ],
   "source": [
    "data_review['is_low'] = data_review.stars < 3 # TRUE with 1,2 stars and FALSE with 3,4,5 stars\n",
    "display(data_review.head(2), data_review.shape)"
   ]
  },
  {
   "cell_type": "markdown",
   "id": "ce318edf-2689-4fcf-924d-75be1d39b425",
   "metadata": {},
   "source": [
    "### Sélectionnons au hasard des reviews dont les notes sont 1 ou 2"
   ]
  },
  {
   "cell_type": "code",
   "execution_count": 20,
   "id": "fc593769-2379-4ab2-bbf0-bd33220e7a76",
   "metadata": {},
   "outputs": [],
   "source": [
    "sample_size = 10000"
   ]
  },
  {
   "cell_type": "raw",
   "id": "90d5c139-e050-4084-8748-9eb537da6080",
   "metadata": {},
   "source": [
    "# Select samples with 50% \"1 stars\" and 50% \"2 stars\" reviews\n",
    "data_bad_reviews_1 = data_review[data_review.stars == 1].sample(sample_size//2, random_state=random_seed)[['stars', 'text']]\n",
    "data_bad_reviews_2 = data_review[data_review.stars == 2].sample(sample_size//2, random_state=random_seed)[['stars', 'text']]\n",
    "data_bad_reviews = pd.concat([data_bad_reviews_1, data_bad_reviews_2])\n",
    "data_bad_reviews.reset_index(drop=True, inplace=True)\n",
    "data_bad_reviews = data_bad_reviews.sample(frac=1) # on mélange pour avoir un export moins ordonné\n",
    "display(data_bad_reviews.head(2), data_bad_reviews.shape)"
   ]
  },
  {
   "cell_type": "code",
   "execution_count": 21,
   "id": "45380242-baac-426c-ad10-09df44803aa7",
   "metadata": {},
   "outputs": [
    {
     "data": {
      "text/html": [
       "<div>\n",
       "<style scoped>\n",
       "    .dataframe tbody tr th:only-of-type {\n",
       "        vertical-align: middle;\n",
       "    }\n",
       "\n",
       "    .dataframe tbody tr th {\n",
       "        vertical-align: top;\n",
       "    }\n",
       "\n",
       "    .dataframe thead th {\n",
       "        text-align: right;\n",
       "    }\n",
       "</style>\n",
       "<table border=\"1\" class=\"dataframe\">\n",
       "  <thead>\n",
       "    <tr style=\"text-align: right;\">\n",
       "      <th></th>\n",
       "      <th>stars</th>\n",
       "      <th>text</th>\n",
       "    </tr>\n",
       "  </thead>\n",
       "  <tbody>\n",
       "    <tr>\n",
       "      <th>0</th>\n",
       "      <td>1</td>\n",
       "      <td>They do not care about customers.  My online o...</td>\n",
       "    </tr>\n",
       "    <tr>\n",
       "      <th>1</th>\n",
       "      <td>1</td>\n",
       "      <td>Food is gross and service is about as bad. Tri...</td>\n",
       "    </tr>\n",
       "  </tbody>\n",
       "</table>\n",
       "</div>"
      ],
      "text/plain": [
       "   stars                                               text\n",
       "0      1  They do not care about customers.  My online o...\n",
       "1      1  Food is gross and service is about as bad. Tri..."
      ]
     },
     "metadata": {},
     "output_type": "display_data"
    },
    {
     "data": {
      "text/plain": [
       "(10000, 2)"
      ]
     },
     "metadata": {},
     "output_type": "display_data"
    }
   ],
   "source": [
    "# Select samples with the original dataset stars' ratio\n",
    "data_bad_reviews = data_review[data_review.is_low == True].sample(sample_size, random_state=random_seed)[['stars', 'text']].reset_index(drop=True)\n",
    "display(data_bad_reviews.head(2), data_bad_reviews.shape)"
   ]
  },
  {
   "cell_type": "markdown",
   "id": "592d3baf-32f0-49af-a8e9-30eb9d7d2be1",
   "metadata": {},
   "source": [
    "### Affichons la distribution des scores dans le nouveau dataset"
   ]
  },
  {
   "cell_type": "code",
   "execution_count": 22,
   "id": "1598b172-9d8c-414d-b35e-5e10cb8aaf2e",
   "metadata": {},
   "outputs": [
    {
     "data": {
      "image/png": "[encoded data removed]",
      "text/plain": [
       "<Figure size 1080x288 with 1 Axes>"
      ]
     },
     "metadata": {
      "needs_background": "light"
     },
     "output_type": "display_data"
    }
   ],
   "source": [
    "select = pd.DataFrame(data_bad_reviews.stars.value_counts()).reset_index()\n",
    "select.sort_values(by='index', inplace=True)\n",
    "select.set_index('index', inplace=True)\n",
    "\n",
    "plot_bars(select.T, \"Distribution (en %) des notes de 'bad' reviews\", y_label=\"Fraction des reviews (en %)\", x_label=\"Nombre d'étoiles\", labels_rotation=0, show_percent=True)"
   ]
  },
  {
   "cell_type": "markdown",
   "id": "14f92398-d478-46f6-8c2b-9f060959e3fb",
   "metadata": {},
   "source": [
    "### Sauvegardons le nouveau dataset des mauvaises reviews"
   ]
  },
  {
   "cell_type": "code",
   "execution_count": 23,
   "id": "67174ba0-3a16-410c-9df3-fecff1b88414",
   "metadata": {},
   "outputs": [],
   "source": [
    "data_bad_reviews.to_csv(\"data/export_bad_reviews.csv\", index=False)"
   ]
  },
  {
   "cell_type": "code",
   "execution_count": null,
   "id": "6038d51e-d5fd-4572-a2aa-7fce97d42587",
   "metadata": {},
   "outputs": [],
   "source": []
  },
  {
   "cell_type": "code",
   "execution_count": null,
   "id": "52954d5c-011b-49bd-b237-871a397e4e7e",
   "metadata": {},
   "outputs": [],
   "source": []
  },
  {
   "cell_type": "code",
   "execution_count": 88,
   "id": "9a1fd6fa-136a-4ba0-ba61-39020c60d13c",
   "metadata": {},
   "outputs": [],
   "source": [
    "import spacy\n",
    "from collections import Counter"
   ]
  },
  {
   "cell_type": "code",
   "execution_count": 89,
   "id": "5c2441d1-e4e9-4b55-9052-3592a16c660e",
   "metadata": {},
   "outputs": [],
   "source": [
    "nlp = spacy.load('en_core_web_sm')"
   ]
  },
  {
   "cell_type": "code",
   "execution_count": null,
   "id": "fb8e6c27-2a42-49da-bbf9-1ff919774dcb",
   "metadata": {},
   "outputs": [],
   "source": []
  },
  {
   "cell_type": "code",
   "execution_count": null,
   "id": "abd7a11c-f5db-46c7-83f5-ad0c2b69e2ab",
   "metadata": {},
   "outputs": [],
   "source": []
  },
  {
   "cell_type": "code",
   "execution_count": 90,
   "id": "acf7c749-5141-4c2d-97ac-847aead17491",
   "metadata": {},
   "outputs": [],
   "source": [
    "#text1 = \"\"\"Most of the outlay will be at home. No surprise there, either. While Samsung has expanded overseas, South Korea is still host to most of its factories and research engineers. \"\"\"\n",
    "text1 = \"Hello World! The world is a wonderful place :)\""
   ]
  },
  {
   "cell_type": "code",
   "execution_count": 104,
   "id": "725f8709-6749-42bb-8aa3-27cf79181c80",
   "metadata": {},
   "outputs": [],
   "source": [
    "#text2 = \"\"\"Natural Language Toolkit, or more commonly NLTK, is a suite of libraries and programs for symbolic and statistical natural language processing (NLP) for English written in the Python programming language. It was developed by Steven Bird and Edward Loper in the Department of Computer and Information Science at the University of Pennsylvania.\"\"\"\n",
    "text2 = \"The woman ran to the shore... saw two women playing in waves and said Hello world\""
   ]
  },
  {
   "cell_type": "code",
   "execution_count": 105,
   "id": "8048e8fa-403b-43f9-bf06-937acf1f3215",
   "metadata": {},
   "outputs": [
    {
     "data": {
      "text/plain": [
       "['Hello World! The world is a wonderful place :)',\n",
       " 'The woman ran to the shore... saw two women playing in waves and said Hello world']"
      ]
     },
     "execution_count": 105,
     "metadata": {},
     "output_type": "execute_result"
    }
   ],
   "source": [
    "texts = [text1, text2]\n",
    "texts"
   ]
  },
  {
   "cell_type": "code",
   "execution_count": 129,
   "id": "e8ed1b41-7164-43a5-a824-536ec6f0d4bb",
   "metadata": {},
   "outputs": [
    {
     "name": "stdout",
     "output_type": "stream",
     "text": [
      "['hello', 'World', 'world', 'wonderful', 'place']\n",
      "\n",
      "['woman', 'run', 'shore', 'see', 'woman', 'play', 'wave', 'say', 'hello', 'world']\n",
      "\n",
      "Counter({'hello': 2, 'world': 2, 'woman': 2, 'World': 1, 'wonderful': 1, 'place': 1, 'run': 1, 'shore': 1, 'see': 1, 'play': 1, 'wave': 1, 'say': 1})\n"
     ]
    }
   ],
   "source": [
    "merged = []\n",
    "\n",
    "for text in texts:\n",
    "    doc = nlp(text)\n",
    "    #remove stopwords and punctuations\n",
    "    words = [token for token in doc if token.is_stop != True and token.is_punct != True]\n",
    "    words_l = [token.lemma_ for token in words]\n",
    "    print(words_l)\n",
    "    # word_freq = Counter(words_l)\n",
    "    # common_words = word_freq # .most_common(5)\n",
    "    # print (common_words)\n",
    "    \n",
    "    merged.extend(words_l)\n",
    "    print(\"\")\n",
    "    \n",
    "merged\n",
    "word_freq = Counter(merged)\n",
    "common_words = word_freq # .most_common(5)\n",
    "print (common_words)"
   ]
  },
  {
   "cell_type": "code",
   "execution_count": 158,
   "id": "439e0916-8479-41fa-b821-d106e9db7cc1",
   "metadata": {},
   "outputs": [
    {
     "data": {
      "text/plain": [
       "\"thereupon | fifty | down | what | ‘re | yours | do | my | next | 'd | one | somewhere | whence | whereupon | was | put | could | sometime | anyway | the | anywhere | cannot | yourselves | ‘s | whoever | whither | using | due | hereafter | something | ’ll | anyhow | before | must | nowhere | some | every | amongst | beside | move | you | herein | therein | should | back | across | each | most | take | hence | did | own | anything | myself | unless | but | ours | ourselves | several | first | at | would | other | ten | been | all | had | below | forty | ‘ve | serious | still | two | four | whom | became | is | indeed | rather | within | really | keep | there | while | same | hereupon | thereby | elsewhere | meanwhile | around | quite | are | amount | where | enough | done | nor | anyone | for | further | am | since | make | they | we | nine | only | being | not | of | upon | thus | another | ca | be | never | over | onto | please | former | when | them | 'll | above | which | ’s | then | ever | during | her | nevertheless | very | alone | between | toward | his | behind | themselves | otherwise | no | ‘d | whether | empty | more | moreover | third | least | name | if | about | ‘m | will | can | from | doing | without | their | seemed | who | five | has | via | always | against | part | twelve | see | once | everything | she | by | too | almost | among | that | now | nobody | last | become | hers | whereafter | your | i | whole | himself | wherein | used | front | hundred | in | perhaps | sometimes | get | everywhere | on | whereas | ’ve | less | 've | with | someone | latterly | how | beforehand | 'm | hereby | thereafter | seems | our | any | also | does | after | until | however | except | as | up | ’d | full | together | herself | a | whose | yet | even | this | formerly | here | towards | latter | various | ’re | bottom | and | just | might | such | becomes | were | n’t | yourself | re | eight | nothing | becoming | per | both | therefore | sixty | none | so | somehow | top | give | much | three | ’m | may | side | whatever | say | thence | n't | him | else | others | often | regarding | thru | because | 're | an | afterwards | have | either | mine | through | noone | already | to | under | ‘ll | into | although | why | those | whereby | fifteen | out | me | 's | again | show | though | whenever | well | wherever | off | seeming | or | seem | mostly | everyone | besides | itself | go | he | us | namely | twenty | than | n‘t | beyond | eleven | made | six | these | its | few | many | along | throughout | call | neither | it\""
      ]
     },
     "execution_count": 158,
     "metadata": {},
     "output_type": "execute_result"
    }
   ],
   "source": [
    "\" | \".join(nlp.Defaults.stop_words)"
   ]
  },
  {
   "cell_type": "code",
   "execution_count": 179,
   "id": "5c9606d0-058c-4ab6-bddb-ba0cc62b60ce",
   "metadata": {},
   "outputs": [],
   "source": [
    "all_lemmas = []\n",
    "\n",
    "for index, row in data_bad_reviews.iterrows():\n",
    "    \n",
    "    text = row['text']\n",
    "    \n",
    "    # suppression des espaces au début et à la fin des textes\n",
    "    text_clean = text.strip()\n",
    "    \n",
    "    # tokenisation\n",
    "    doc = nlp(text_clean)\n",
    "    \n",
    "    # suppression des stopwords, de la ponctuation et des espaces\n",
    "    tokens = [token for token in doc if token.is_stop != True and token.is_punct != True and token.is_space != True]\n",
    "    \n",
    "    # lemmatization\n",
    "    lemmas = [token.lemma_ for token in tokens]\n",
    "    \n",
    "    # on les ajoute à la liste globale des mots\n",
    "    all_lemmas.extend(lemmas)"
   ]
  },
  {
   "cell_type": "code",
   "execution_count": 180,
   "id": "dea6e45e-bb5f-4191-b0f4-d493cea43cfb",
   "metadata": {},
   "outputs": [
    {
     "name": "stdout",
     "output_type": "stream",
     "text": [
      "[('food', 5920), ('order', 5905), ('time', 5387), ('place', 5123), ('come', 4680), ('go', 4549), ('like', 4387), ('service', 4296), ('tell', 4003), ('good', 3995), ('say', 3605), ('get', 3523), ('ask', 3493), ('wait', 3127), ('$', 3070), ('bad', 2893), ('want', 2654), ('minute', 2567), ('try', 2529), ('look', 2484), ('take', 2394), ('customer', 2262), ('know', 2242), ('leave', 2198), ('day', 2037), ('eat', 2016), ('people', 1971), ('restaurant', 1968), ('table', 1956), ('experience', 1936), ('call', 1931), ('pay', 1879), ('work', 1876), ('need', 1803), ('2', 1798), ('think', 1783), ('well', 1695), ('hour', 1672), ('drink', 1639), ('give', 1573), ('great', 1563), ('way', 1534), ('price', 1508), ('find', 1500), ('staff', 1489), ('room', 1469), ('car', 1434), ('manager', 1419), ('taste', 1417), ('thing', 1394), ('review', 1393), ('walk', 1332), ('check', 1321), ('long', 1299), ('sit', 1270), ('money', 1251), ('3', 1245), ('nice', 1243), ('year', 1224), ('chicken', 1207), ('feel', 1204), ('night', 1178), ('new', 1165), ('star', 1144), ('server', 1141), ('bar', 1122), ('business', 1104), ('charge', 1094), ('right', 1084), ('menu', 1066), ('location', 1052), ('return', 1039), ('rude', 1028), ('fry', 1023), ('store', 1022), ('5', 1018), ('meal', 1013), ('bring', 1007), ('sure', 1004), ('week', 1004), ('friend', 991), ('pizza', 985), ('waitress', 967), ('start', 954), ('stay', 944), ('10', 941), ('away', 933), ('let', 910), ('small', 907), ('little', 901), ('finally', 901), ('later', 900), ('guy', 878), ('phone', 876), ('lot', 873), ('visit', 869), ('pretty', 868), ('serve', 859), ('arrive', 854), ('see', 850), ('ok', 850), ('receive', 846), ('end', 835), ('horrible', 833), ('seat', 831), ('open', 830), ('decide', 817), ('water', 816), ('20', 809), ('employee', 809), ('terrible', 801), ('home', 800), ('wrong', 797), ('old', 796), ('will', 796), ('cheese', 794), ('close', 793), ('month', 791), ('4', 787), ('sauce', 784), ('clean', 784), ('change', 784), ('drive', 784), ('area', 783), ('person', 774), ('half', 768), ('1', 768), ('salad', 767), ('offer', 763), ('recommend', 763), ('care', 762), ('buy', 749), ('line', 747), ('point', 738), ('issue', 738), ('maybe', 734), ('help', 732), ('owner', 724), ('burger', 724), ('actually', 720), ('disappointed', 706), ('problem', 696), ('door', 696), ('pick', 692), ('cold', 692), ('dish', 688), ('different', 684), ('company', 682), ('love', 682), ('expect', 679), ('today', 668), ('hotel', 666), ('talk', 656), ('quality', 655), ('run', 654), ('send', 652), ('15', 646), ('sandwich', 642), ('cook', 641), ('item', 636), ('use', 636), ('stop', 636), ('hear', 635), ('beer', 630), ('dinner', 628), ('make', 624), ('big', 622), ('spend', 619), ('card', 601), ('happen', 600), ('instead', 596), ('appointment', 594), ('high', 590), ('second', 588), ('husband', 582), ('busy', 580), ('hot', 577), ('fix', 574), ('meat', 574), ('probably', 573), ('30', 571), ('turn', 570), ('worth', 566), ('flavor', 566), ('hard', 563), ('friendly', 563), ('dry', 563), ('waiter', 541), ('poor', 538), ('speak', 537), ('bill', 536), ('kid', 535), ('lunch', 534), ('hand', 532), ('deal', 531), ('party', 519), ('fine', 511), ('have', 510), ('plate', 509), ('kind', 507), ('waste', 504), ('hope', 503), ('min', 501), ('extremely', 500), ('slow', 500), ('completely', 497), ('hair', 497), ('notice', 496), ('bit', 494), ('definitely', 494), ('stand', 493), ('dog', 493), ('guess', 491), ('job', 491), ('roll', 489), ('coffee', 487), ('family', 485), ('cut', 485), ('nail', 484), ('couple', 479), ('shop', 479), ('understand', 478), ('reason', 477), ('ago', 468), ('bartender', 465), ('show', 461), ('girl', 461), ('6', 459), ('extra', 458), ('lack', 457), ('special', 456), ('inside', 454), ('ready', 454), ('option', 454), ('lady', 452), ('egg', 452), ('okay', 448), ('woman', 446), ('tip', 446), ('cost', 443), ('dirty', 442), ('explain', 440), ('rice', 439), ('finish', 436), ('treat', 435), ('large', 432), ('state', 432), ('wife', 432), ('far', 429), ('enjoy', 428), ('write', 428), ('bread', 427), ('awful', 427), ('pm', 426), ('piece', 425), ('delivery', 425), ('fresh', 425), ('outside', 423), ('live', 421), ('add', 420), ('mean', 420), ('sign', 420), ('house', 420), ('kitchen', 417), ('keep', 416), ('absolutely', 416), ('disappointing', 415), ('not', 414), ('answer', 413), ('mention', 412), ('bland', 409), ('literally', 406), ('reservation', 404), ('free', 400), ('purchase', 400), ('floor', 398), ('move', 396), ('management', 396), ('read', 392), ('refund', 392), ('steak', 391), ('counter', 391), ('past', 390), ('shrimp', 389), ('office', 389), ('break', 388), ('soup', 387), ('late', 387), ('glass', 385), ('credit', 378), ('breakfast', 377), ('appetizer', 377), ('attitude', 376), ('man', 374), ('entire', 374), ('unfortunately', 373), ('desk', 372), ('sorry', 371), ('able', 368), ('fact', 367), ('smell', 367), ('forget', 366), ('thank', 363), ('overall', 356), ('miss', 355), ('believe', 354), ('potato', 354), ('short', 351), ('oh', 347), ('decent', 346), ('deliver', 345), ('happy', 344), ('suppose', 344), ('course', 344), ('cake', 341), ('spot', 341), ('set', 339), ('group', 338), ('number', 338), ('portion', 337), ('cheap', 337), ('request', 334), ('dollar', 334), ('avoid', 334), ('sell', 333), ('parking', 333), ('sweet', 333), ('sushi', 330), ('contact', 328), ('watch', 326), ('size', 323), ('include', 322), ('refuse', 322), ('lose', 320), ('morning', 319), ('email', 319), ('mediocre', 318), ('expensive', 318), ('fast', 317), ('tea', 316), ('ice', 313), ('local', 312), ('throw', 312), ('chip', 312), ('early', 311), ('8', 310), ('fish', 308), ('online', 307), ('twice', 306), ('mess', 305), ('book', 305), ('complain', 305), ('hold', 303), ('cancel', 303), ('average', 302), ('wing', 301), ('replace', 301), ('follow', 301), ('window', 301), ('usually', 296), ('hostess', 296), ('especially', 295), ('save', 293), ('bite', 293), ('fill', 292), ('oil', 292), ('immediately', 292), ('wine', 292), ('super', 291), ('45', 291), ('drop', 291), ('clearly', 290), ('huge', 290), ('street', 288), ('Saturday', 288), ('question', 287), ('yes', 287), ('taco', 286), ('bathroom', 285), ('cream', 285), ('rest', 285), ('stuff', 284), ('figure', 284), ('sale', 282), ('realize', 282), ('dining', 281), ('real', 280), ('bother', 279), ('schedule', 278), ('burn', 276), ('beef', 276), ('pull', 276), ('light', 273), ('list', 273), ('young', 272), ('cover', 272), ('stick', 272), ('guest', 272), ('mistake', 270), ('regular', 268), ('life', 266), ('cup', 266), ('inform', 266), ('low', 265), ('7', 265), ('mind', 265), ('basically', 263), ('consider', 263), ('total', 263), ('continue', 262), ('unprofessional', 262), ('head', 262), ('response', 262), ('town', 261), ('post', 260), ('bag', 260), ('fee', 259), ('child', 258), ('wish', 257), ('entree', 257), ('apologize', 256), ('box', 256), ('daughter', 254), ('establishment', 254), ('bowl', 253), ('multiple', 252), ('ignore', 251), ('vehicle', 249), ('wear', 248), ('excited', 248), ('onion', 247), ('available', 246), ('sad', 246), ('provide', 245), ('got', 245), ('selection', 245), ('plus', 245), ('begin', 244), ('worker', 244), ('barely', 242), ('40', 242), ('Friday', 241), ('product', 241), ('honestly', 241), ('soon', 240), ('claim', 239), ('white', 238), ('repair', 238), ('chance', 238), ('refill', 237), ('cool', 237), ('trip', 237), ('bacon', 237), ('totally', 237), ('lie', 236), ('rush', 235), ('base', 235), ('case', 235), ('plan', 234), ('complete', 234), ('clear', 233), ('idea', 233), ('type', 232), ('word', 232), ('seriously', 231), ('apparently', 231), ('slice', 230), ('weekend', 230), ('dessert', 230), ('warm', 229), ('pass', 228), ('disgusting', 228), ('suck', 226), ('atmosphere', 226), ('zero', 225), ('quick', 225), ('picture', 224), ('act', 224), ('tire', 224), ('25', 224), ('play', 223), ('attention', 222), ('member', 222), ('allow', 221), ('evening', 221), ('amazing', 221), ('choice', 220), ('system', 219), ('fall', 219), ('simply', 218), ('correct', 217), ('meet', 217), ('etc', 216), ('music', 216), ('tonight', 216), ('quickly', 216), ('bed', 216), ('choose', 215), ('eye', 214), ('green', 214)]\n"
     ]
    }
   ],
   "source": [
    "lemmas_freq = Counter(all_lemmas)\n",
    "common_lemmas = lemmas_freq.most_common(500)\n",
    "print (common_lemmas)"
   ]
  }
 ],
 "metadata": {
  "kernelspec": {
   "display_name": "venvP6",
   "language": "python",
   "name": "venvp6"
  },
  "language_info": {
   "codemirror_mode": {
    "name": "ipython",
    "version": 3
   },
   "file_extension": ".py",
   "mimetype": "text/x-python",
   "name": "python",
   "nbconvert_exporter": "python",
   "pygments_lexer": "ipython3",
   "version": "3.8.10"
  }
 },
 "nbformat": 4,
 "nbformat_minor": 5
}
